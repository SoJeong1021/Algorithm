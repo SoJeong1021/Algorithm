{
 "cells": [
  {
   "cell_type": "code",
   "execution_count": 20,
   "id": "a5afb518",
   "metadata": {},
   "outputs": [
    {
     "name": "stdout",
     "output_type": "stream",
     "text": [
      "11\n",
      "1 4\n",
      "3 5\n",
      "0 6\n",
      "5 7\n",
      "3 8\n",
      "5 9\n",
      "6 10\n",
      "8 11\n",
      "8 12\n",
      "2 13\n",
      "12 14\n",
      "4\n"
     ]
    }
   ],
   "source": [
    "total = int(input())\n",
    "i = 1\n",
    "count = 0\n",
    "temp = 0\n",
    "\n",
    "while i <= total:\n",
    "    start_time, end_time = map(int, input().split())\n",
    "    if i == 1:\n",
    "        count = count + 1\n",
    "        temp = end_time\n",
    "    if start_time >= temp:\n",
    "        count = count + 1\n",
    "        temp = end_time\n",
    "    i = i + 1\n",
    "\n",
    "print(count)"
   ]
  },
  {
   "cell_type": "code",
   "execution_count": 48,
   "id": "2d2a0932",
   "metadata": {},
   "outputs": [
    {
     "name": "stdout",
     "output_type": "stream",
     "text": [
      "11\n",
      "1 4\n",
      "3 5\n",
      "0 6\n",
      "5 7\n",
      "3 8\n",
      "5 9\n",
      "6 10\n",
      "8 11\n",
      "8 12\n",
      "2 13\n",
      "12 14\n",
      "4\n"
     ]
    }
   ],
   "source": [
    "total = int(input())\n",
    "conference = []\n",
    "\n",
    "for i in range(total):\n",
    "    start_time, end_time = map(int, input().split())\n",
    "    conference.append([start_time, end_time])\n",
    "\n",
    "conference.sort(key = lambda x:x[1])\n",
    "count = 1\n",
    "temp = conference[0][1]\n",
    "\n",
    "for i in range(total):\n",
    "    if conference[i][0] >= temp:\n",
    "        count = count + 1\n",
    "        temp = conference[i][1]\n",
    "        \n",
    "print(count)"
   ]
  }
 ],
 "metadata": {
  "kernelspec": {
   "display_name": "Python 3 (ipykernel)",
   "language": "python",
   "name": "python3"
  },
  "language_info": {
   "codemirror_mode": {
    "name": "ipython",
    "version": 3
   },
   "file_extension": ".py",
   "mimetype": "text/x-python",
   "name": "python",
   "nbconvert_exporter": "python",
   "pygments_lexer": "ipython3",
   "version": "3.7.11"
  }
 },
 "nbformat": 4,
 "nbformat_minor": 5
}
