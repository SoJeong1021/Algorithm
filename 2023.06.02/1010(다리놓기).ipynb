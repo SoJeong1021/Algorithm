{
 "cells": [
  {
   "cell_type": "code",
   "execution_count": 16,
   "id": "9c56111b",
   "metadata": {},
   "outputs": [
    {
     "name": "stdout",
     "output_type": "stream",
     "text": [
      "3\n",
      "2 2\n",
      "1 5\n",
      "13 29\n",
      "1.0\n",
      "5.0\n",
      "67863915.0\n"
     ]
    }
   ],
   "source": [
    "total = int(input())\n",
    "test_case = []\n",
    "result_case = []\n",
    "\n",
    "# 테스트 케이스 입력 받기\n",
    "for i in range (total):\n",
    "    N, M = map(int, input().split())\n",
    "    test_case.append([N, M])\n",
    "\n",
    "# 팩토리얼 함수\n",
    "def factorial(numbers):\n",
    "    number = 1\n",
    "    for i in range (1, numbers+1):\n",
    "        number *= i\n",
    "    return number\n",
    "\n",
    "# mCn 으로 경우의 수 구하기\n",
    "for n, m in (test_case):\n",
    "    result = factorial(m)/(factorial(m-n)*factorial(n))\n",
    "    print(result)"
   ]
  },
  {
   "cell_type": "markdown",
   "id": "0d29ea89",
   "metadata": {},
   "source": [
    "서쪽 N개의 사이트\n",
    "동쪽 M개의 사이트\n",
    "N <= M \n",
    "한 사이트에는 0개 혹은 한 개의 다리를 놓을 수 있다.\n",
    "다리는 N개의 다리를 지을 예정\n",
    "다리는 서로 겹칠 수 없다.\n",
    "그 때의 경우의 수\n",
    "\n",
    "테스트 케이스 T\n",
    "N, M\n",
    "\n",
    "m개의 지역에 n개의 다리를 놓는 경우의 수\n",
    "mCn = m! % (m-n)!n!"
   ]
  }
 ],
 "metadata": {
  "kernelspec": {
   "display_name": "Python 3 (ipykernel)",
   "language": "python",
   "name": "python3"
  },
  "language_info": {
   "codemirror_mode": {
    "name": "ipython",
    "version": 3
   },
   "file_extension": ".py",
   "mimetype": "text/x-python",
   "name": "python",
   "nbconvert_exporter": "python",
   "pygments_lexer": "ipython3",
   "version": "3.7.11"
  }
 },
 "nbformat": 4,
 "nbformat_minor": 5
}
