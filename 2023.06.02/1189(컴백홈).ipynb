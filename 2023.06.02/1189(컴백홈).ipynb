{
 "cells": [
  {
   "cell_type": "code",
   "execution_count": 5,
   "id": "1acd48ba",
   "metadata": {},
   "outputs": [
    {
     "name": "stdout",
     "output_type": "stream",
     "text": [
      "3 4 6\n",
      "....\n",
      ".T..\n",
      "....\n",
      "4\n"
     ]
    }
   ],
   "source": [
    "# 입력\n",
    "R, C, K = map(int, input().split())\n",
    "graph = [list(input()) for _ in range(R)]\n",
    "sample = [(1, 0), (-1, 0), (0, 1), (0, -1)]\n",
    "result = 0\n",
    "# 도착지 : C - 1\n",
    "# 출발지 : R - 1\n",
    "# 피해야하는 지점 확인 : graph[nx][ny] != 'T'\n",
    "\n",
    "def backtracking(x, y, k):\n",
    "    global result\n",
    "    # 측정된 거리가 요구하는 값일 때\n",
    "    if k == K:\n",
    "        if (x,y) == (0, C-1):\n",
    "            result += 1\n",
    "    else:\n",
    "        for dx, dy in (sample):\n",
    "            nx = x + dx\n",
    "            ny = y + dy\n",
    "            if (0 <= nx < R) and (0 <= ny < C) and (graph[nx][ny] != 'T'):\n",
    "                # 이동했다면 해당 위치를 'T'로 만들어 다음 이동에서 피하기\n",
    "                graph[nx][ny] = 'T'\n",
    "                # 다음 방향 선택하기 (재귀) k+1로 거리 한 칸씩 상승\n",
    "                backtracking(nx, ny, k + 1)\n",
    "                # 원상복구\n",
    "                graph[nx][ny] = '.'\n",
    "    \n",
    "graph[R - 1][0] = 'T'                \n",
    "backtracking(R - 1, 0 ,1)        \n",
    "print(result)\n"
   ]
  },
  {
   "cell_type": "markdown",
   "id": "f03ac7f7",
   "metadata": {},
   "source": [
    "고려사항 1 : 방문 처리 \n",
    "고려사항 2 : "
   ]
  },
  {
   "cell_type": "code",
   "execution_count": 20,
   "id": "5b61b6df",
   "metadata": {},
   "outputs": [
    {
     "name": "stdout",
     "output_type": "stream",
     "text": [
      "3 4 6\n",
      "....\n",
      ".T..\n",
      "....\n",
      "4\n"
     ]
    }
   ],
   "source": [
    "n, m, K = map(int, input().split())\n",
    "graph = [list(input()) for _ in range(n)]\n",
    "answer = 0\n",
    "\n",
    "def rec_fun(x, y, k):\n",
    "    global answer\n",
    "    if k == K:\n",
    "        if (x, y) == (0, m - 1): answer += 1\n",
    "    else:\n",
    "        for dx, dy in ((1, 0), (-1, 0), (0, 1), (0, -1)):\n",
    "            nx, ny = x + dx, y + dy\n",
    "            if 0 <= nx < n and 0 <= ny < m and graph[nx][ny] != 'T':\n",
    "                graph[nx][ny] = 'T'\n",
    "                rec_fun(nx, ny, k + 1)\n",
    "                graph[nx][ny] = '.'\n",
    "\n",
    "graph[n - 1][0] = 'T' # 시작 지점 방문 처리\n",
    "rec_fun(n - 1, 0, 1)\n",
    "print(answer)"
   ]
  },
  {
   "cell_type": "code",
   "execution_count": null,
   "id": "51fc4ecd",
   "metadata": {},
   "outputs": [],
   "source": []
  }
 ],
 "metadata": {
  "kernelspec": {
   "display_name": "Python 3 (ipykernel)",
   "language": "python",
   "name": "python3"
  },
  "language_info": {
   "codemirror_mode": {
    "name": "ipython",
    "version": 3
   },
   "file_extension": ".py",
   "mimetype": "text/x-python",
   "name": "python",
   "nbconvert_exporter": "python",
   "pygments_lexer": "ipython3",
   "version": "3.7.11"
  }
 },
 "nbformat": 4,
 "nbformat_minor": 5
}
