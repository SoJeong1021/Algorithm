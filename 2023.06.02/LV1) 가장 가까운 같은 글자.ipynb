{
 "cells": [
  {
   "cell_type": "code",
   "execution_count": 9,
   "id": "a2e60a06",
   "metadata": {},
   "outputs": [
    {
     "data": {
      "text/plain": [
       "[-1, -1, -1, 2, 2, 2]"
      ]
     },
     "execution_count": 9,
     "metadata": {},
     "output_type": "execute_result"
    }
   ],
   "source": [
    "def solution(s):\n",
    "    answer = []\n",
    "    dict = {}\n",
    "    s_list = list(s)\n",
    "    \n",
    "    # enumerate : 문자와 그 문자의 index를 같이 넘기기\n",
    "    for index, word in enumerate(s_list):\n",
    "        if word not in dict:\n",
    "            answer.append(-1)\n",
    "            dict[word] = index\n",
    "        else:\n",
    "            answer.append(index-dict[word])\n",
    "            #새로 발견한 위치 갱신 (뒤에서 발견되면 가까운 건 이번 것이기 때문)\n",
    "            dict[word] = index\n",
    "            \n",
    "    return answer\n",
    "solution(\"banana\")"
   ]
  },
  {
   "cell_type": "markdown",
   "id": "55cab735",
   "metadata": {},
   "source": [
    "주의사항\n",
    "1) 다음에 발견한 문자는 항상 이전 가장 최근에 발견한 문자와 가장 가까움\n",
    "2) 최소 거리의 문자를 찾는 것 X"
   ]
  }
 ],
 "metadata": {
  "kernelspec": {
   "display_name": "Python 3 (ipykernel)",
   "language": "python",
   "name": "python3"
  },
  "language_info": {
   "codemirror_mode": {
    "name": "ipython",
    "version": 3
   },
   "file_extension": ".py",
   "mimetype": "text/x-python",
   "name": "python",
   "nbconvert_exporter": "python",
   "pygments_lexer": "ipython3",
   "version": "3.7.11"
  }
 },
 "nbformat": 4,
 "nbformat_minor": 5
}
